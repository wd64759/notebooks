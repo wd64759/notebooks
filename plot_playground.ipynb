{
 "cells": [
  {
   "cell_type": "code",
   "execution_count": 1,
   "metadata": {
    "collapsed": false,
    "deletable": true,
    "editable": true
   },
   "outputs": [],
   "source": [
    "import numpy as np\n",
    "import matplotlib as mpl\n",
    "import matplotlib.pyplot as plt"
   ]
  },
  {
   "cell_type": "code",
   "execution_count": 2,
   "metadata": {
    "collapsed": true,
    "deletable": true,
    "editable": true
   },
   "outputs": [],
   "source": [
    "k = 8000\n",
    "s = np.linspace(7000, 9000, 100)"
   ]
  },
  {
   "cell_type": "code",
   "execution_count": 4,
   "metadata": {
    "collapsed": false,
    "deletable": true,
    "editable": true
   },
   "outputs": [],
   "source": [
    "h = np.maximum(s - k, 0)"
   ]
  },
  {
   "cell_type": "code",
   "execution_count": 11,
   "metadata": {
    "collapsed": false,
    "deletable": true,
    "editable": true
   },
   "outputs": [
    {
     "data": {
      "image/png": "[encoded data removed]",
      "text/plain": [
       "<matplotlib.figure.Figure at 0xff0b38>"
      ]
     },
     "metadata": {},
     "output_type": "display_data"
    }
   ],
   "source": [
    "plt.figure()\n",
    "plt.plot(s, h, lw=1.5)\n",
    "plt.xlabel('index level $S_t$ at maturity')\n",
    "plt.ylabel('inner value of european call option')\n",
    "\n",
    "plt.grid(True)\n",
    "plt.show()"
   ]
  },
  {
   "cell_type": "code",
   "execution_count": 7,
   "metadata": {
    "collapsed": false,
    "deletable": true,
    "editable": true
   },
   "outputs": [
    {
     "data": {
      "text/plain": [
       "array([-1000.        ,  -979.7979798 ,  -959.5959596 ,  -939.39393939,\n",
       "        -919.19191919,  -898.98989899,  -878.78787879,  -858.58585859,\n",
       "        -838.38383838,  -818.18181818,  -797.97979798,  -777.77777778,\n",
       "        -757.57575758,  -737.37373737,  -717.17171717,  -696.96969697,\n",
       "        -676.76767677,  -656.56565657,  -636.36363636,  -616.16161616,\n",
       "        -595.95959596,  -575.75757576,  -555.55555556,  -535.35353535,\n",
       "        -515.15151515,  -494.94949495,  -474.74747475,  -454.54545455,\n",
       "        -434.34343434,  -414.14141414,  -393.93939394,  -373.73737374,\n",
       "        -353.53535354,  -333.33333333,  -313.13131313,  -292.92929293,\n",
       "        -272.72727273,  -252.52525253,  -232.32323232,  -212.12121212,\n",
       "        -191.91919192,  -171.71717172,  -151.51515152,  -131.31313131,\n",
       "        -111.11111111,   -90.90909091,   -70.70707071,   -50.50505051,\n",
       "         -30.3030303 ,   -10.1010101 ,    10.1010101 ,    30.3030303 ,\n",
       "          50.50505051,    70.70707071,    90.90909091,   111.11111111,\n",
       "         131.31313131,   151.51515152,   171.71717172,   191.91919192,\n",
       "         212.12121212,   232.32323232,   252.52525253,   272.72727273,\n",
       "         292.92929293,   313.13131313,   333.33333333,   353.53535354,\n",
       "         373.73737374,   393.93939394,   414.14141414,   434.34343434,\n",
       "         454.54545455,   474.74747475,   494.94949495,   515.15151515,\n",
       "         535.35353535,   555.55555556,   575.75757576,   595.95959596,\n",
       "         616.16161616,   636.36363636,   656.56565657,   676.76767677,\n",
       "         696.96969697,   717.17171717,   737.37373737,   757.57575758,\n",
       "         777.77777778,   797.97979798,   818.18181818,   838.38383838,\n",
       "         858.58585859,   878.78787879,   898.98989899,   919.19191919,\n",
       "         939.39393939,   959.5959596 ,   979.7979798 ,  1000.        ])"
      ]
     },
     "execution_count": 7,
     "metadata": {},
     "output_type": "execute_result"
    }
   ],
   "source": [
    "s-k"
   ]
  }
 ],
 "metadata": {
  "kernelspec": {
   "display_name": "Python 3",
   "language": "python",
   "name": "python3"
  },
  "language_info": {
   "codemirror_mode": {
    "name": "ipython",
    "version": 3
   },
   "file_extension": ".py",
   "mimetype": "text/x-python",
   "name": "python",
   "nbconvert_exporter": "python",
   "pygments_lexer": "ipython3",
   "version": "3.4.4"
  }
 },
 "nbformat": 4,
 "nbformat_minor": 2
}
