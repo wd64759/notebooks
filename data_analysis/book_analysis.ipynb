{
 "cells": [
  {
   "cell_type": "code",
   "execution_count": 1,
   "metadata": {
    "collapsed": true,
    "deletable": true,
    "editable": true
   },
   "outputs": [],
   "source": [
    "import re\n",
    "import jieba\n",
    "import codecs\n",
    "from jieba import posseg"
   ]
  },
  {
   "cell_type": "code",
   "execution_count": 13,
   "metadata": {
    "collapsed": false,
    "deletable": true,
    "editable": true
   },
   "outputs": [],
   "source": [
    "ptn = r'(.*)[。|？]'\n",
    "oneline_book = ''\n",
    "with codecs.open(r'D:\\BaiduYunDownload\\三国演义.txt','r','utf-8') as f:\n",
    "    for line in f:\n",
    "        oneline_book = segments + line[:-2]"
   ]
  },
  {
   "cell_type": "code",
   "execution_count": 45,
   "metadata": {
    "collapsed": false,
    "deletable": true,
    "editable": true
   },
   "outputs": [
    {
     "data": {
      "text/plain": [
       "'滚滚长江东逝水，浪花淘尽英雄。是非成败转头空。青山依旧在，几度夕阳红。白发渔樵江渚上，惯看秋月春风。一壶浊酒喜相逢。古今多少事，都付笑谈中。——调寄《临江仙》话说天下大势，分久必合，合久必分。周末七国分争，并入于秦。及秦灭之后，楚、汉分争，又并入于汉。汉朝自高祖斩白蛇而起义，一统天下，后来光武中兴，传至献帝，遂分为三国。推其致乱之由，殆始于桓、灵二帝。桓帝禁锢善类，崇信宦官。及桓帝崩，灵帝即位，大将军窦武、太傅陈蕃，共相辅佐。时有宦官曹节等弄权，窦武、陈蕃谋诛之，机事不密，反为所害，中涓自此愈横。建宁二年四月望日，帝御温德殿。方升座，殿角狂风骤起。只见一条大青蛇，从梁上飞将下来，蟠于椅上。帝惊倒，左右急救入宫，百官俱奔避。须臾，蛇不见了。忽然大雷大雨，加以冰雹，落到半夜方止，坏却房屋无数。建宁四年二月，洛阳地震；又海水泛溢，沿海居民，尽被大浪卷入海中。光和元年，雌鸡化雄。六月朔，黑气十余丈，飞入温雄殿中。秋七月，有虹现于玉堂；五原山岸，尽皆崩裂。种种不祥，非止一端。帝下诏问群臣以灾异之由，议郎蔡邕上疏，以为霓堕鸡化，乃妇寺干政之所致，言颇切直。帝览奏叹息，因起更衣。曹节在后窃视，悉宣告左右；遂以他事陷邕于罪，放归田里。后张让、赵忠、封谞、段珪、曹节、侯览、蹇硕、程旷、夏恽、郭胜十人朋比为奸，号为“十常侍”。帝尊信张让，呼为“阿父”。朝政日非，以致天下人心思乱，盗贼蜂起。时巨鹿郡有兄弟三人，一名张角，一名张宝，一名张梁。那张角本是个不第秀才，因入山采药，遇一老人，碧眼童颜，手执藜杖，唤角至一洞中，以天书三卷授之，曰：“此名《太平要术》，汝得之，当代天宣化，普救世人；若萌异心，必获恶报。”角拜问姓名。老人曰：“吾乃南华老仙也。”言讫，化阵清风而去。角得此书，晓夜攻习，能呼风唤雨，号为“太平道人”。中平元年正月内，疫气流行，张角散施符水，为人治病，自称“大贤良师”。角有徒弟五百余人，云游四方，皆能书符念咒。次后徒众日多，角乃立三十六方，大方万余人，小方六七千，各立渠帅，称为将军；讹言：“苍天已死，黄天当立；岁在甲子，天下大吉。”令人各以白土，书“甲子”二字于家中大门上。青、幽、徐、冀、荆、扬、兖、豫八州之人，家家侍奉大贤良师张角名字。角遣其党马元义，暗赍金帛，结交中涓封谞，以为内应。角与二弟商议曰：“至难得者，民心也。今民心已顺，若不乘势取天下，诚为可惜。”遂一面私造黄旗'"
      ]
     },
     "execution_count": 45,
     "metadata": {},
     "output_type": "execute_result"
    }
   ],
   "source": [
    "oneline_book[:1000]"
   ]
  },
  {
   "cell_type": "code",
   "execution_count": 51,
   "metadata": {
    "collapsed": false,
    "deletable": true,
    "editable": true
   },
   "outputs": [
    {
     "name": "stdout",
     "output_type": "stream",
     "text": [
      ">>>0\n",
      "<_sre.SRE_Match object; span=(0, 15), match='滚滚长江东逝水，浪花淘尽英雄。'>\n",
      ">>>1\n",
      "<_sre.SRE_Match object; span=(15, 23), match='是非成败转头空。'>\n",
      ">>>2\n",
      "<_sre.SRE_Match object; span=(23, 35), match='青山依旧在，几度夕阳红。'>\n",
      ">>>3\n",
      "<_sre.SRE_Match object; span=(35, 50), match='白发渔樵江渚上，惯看秋月春风。'>\n",
      ">>>4\n",
      "<_sre.SRE_Match object; span=(50, 58), match='一壶浊酒喜相逢。'>\n",
      ">>>5\n",
      "<_sre.SRE_Match object; span=(58, 70), match='古今多少事，都付笑谈中。'>\n",
      ">>>6\n",
      "<_sre.SRE_Match object; span=(72, 96), match='调寄《临江仙》话说天下大势，分久必合，合久必分。'>\n",
      ">>>7\n",
      "<_sre.SRE_Match object; span=(96, 108), match='周末七国分争，并入于秦。'>\n",
      ">>>8\n",
      "<_sre.SRE_Match object; span=(108, 126), match='及秦灭之后，楚、汉分争，又并入于汉。'>\n",
      ">>>9\n",
      "<_sre.SRE_Match object; span=(126, 161), match='汉朝自高祖斩白蛇而起义，一统天下，后来光武中兴，传至献帝，遂分为三国。'>\n",
      ">>>10\n",
      "<_sre.SRE_Match object; span=(161, 177), match='推其致乱之由，殆始于桓、灵二帝。'>\n",
      ">>>11\n",
      "<_sre.SRE_Match object; span=(177, 189), match='桓帝禁锢善类，崇信宦官。'>\n",
      ">>>12\n",
      "<_sre.SRE_Match object; span=(189, 215), match='及桓帝崩，灵帝即位，大将军窦武、太傅陈蕃，共相辅佐。'>\n",
      ">>>13\n",
      "<_sre.SRE_Match object; span=(215, 251), match='时有宦官曹节等弄权，窦武、陈蕃谋诛之，机事不密，反为所害，中涓自此愈横。'>\n",
      ">>>14\n",
      "<_sre.SRE_Match object; span=(251, 266), match='建宁二年四月望日，帝御温德殿。'>\n",
      ">>>15\n",
      "<_sre.SRE_Match object; span=(266, 277), match='方升座，殿角狂风骤起。'>\n",
      ">>>16\n",
      "<_sre.SRE_Match object; span=(277, 298), match='只见一条大青蛇，从梁上飞将下来，蟠于椅上。'>\n",
      ">>>17\n",
      "<_sre.SRE_Match object; span=(298, 315), match='帝惊倒，左右急救入宫，百官俱奔避。'>\n",
      ">>>18\n",
      "<_sre.SRE_Match object; span=(315, 323), match='须臾，蛇不见了。'>\n",
      ">>>19\n",
      "<_sre.SRE_Match object; span=(323, 349), match='忽然大雷大雨，加以冰雹，落到半夜方止，坏却房屋无数。'>\n",
      ">>>20\n",
      "<_sre.SRE_Match object; span=(349, 361), match='建宁四年二月，洛阳地震；'>\n",
      ">>>21\n",
      "<_sre.SRE_Match object; span=(361, 381), match='又海水泛溢，沿海居民，尽被大浪卷入海中。'>\n",
      ">>>22\n",
      "<_sre.SRE_Match object; span=(381, 391), match='光和元年，雌鸡化雄。'>\n",
      ">>>23\n",
      "<_sre.SRE_Match object; span=(391, 408), match='六月朔，黑气十余丈，飞入温雄殿中。'>\n",
      ">>>24\n",
      "<_sre.SRE_Match object; span=(408, 419), match='秋七月，有虹现于玉堂；'>\n",
      ">>>25\n",
      "<_sre.SRE_Match object; span=(419, 429), match='五原山岸，尽皆崩裂。'>\n",
      ">>>26\n",
      "<_sre.SRE_Match object; span=(429, 439), match='种种不祥，非止一端。'>\n",
      ">>>27\n",
      "<_sre.SRE_Match object; span=(439, 479), match='帝下诏问群臣以灾异之由，议郎蔡邕上疏，以为霓堕鸡化，乃妇寺干政之所致，言颇切直。'>\n",
      ">>>28\n",
      "<_sre.SRE_Match object; span=(479, 490), match='帝览奏叹息，因起更衣。'>\n",
      ">>>29\n",
      "<_sre.SRE_Match object; span=(490, 503), match='曹节在后窃视，悉宣告左右；'>\n",
      ">>>30\n",
      "<_sre.SRE_Match object; span=(503, 517), match='遂以他事陷邕于罪，放归田里。'>\n"
     ]
    }
   ],
   "source": [
    "t_str = oneline_book[:1000]\n",
    "ptn = re.compile('([\\w|，|：|《|》|“|”|、]+)[。|；]?')\n",
    "segments = re.finditer(ptn,t_str)\n",
    "# print(segments[:10])\n",
    "seg_idx = 0\n",
    "for one_seg in segments:\n",
    "    if seg_idx > 30:\n",
    "        break\n",
    "    print(\">>>\" + str(seg_idx))\n",
    "    print(one_seg)\n",
    "    seg_idx = seg_idx + 1"
   ]
  },
  {
   "cell_type": "code",
   "execution_count": 40,
   "metadata": {
    "collapsed": false,
    "deletable": true,
    "editable": true
   },
   "outputs": [
    {
     "ename": "AttributeError",
     "evalue": "'str' object has no attribute 'decode'",
     "output_type": "error",
     "traceback": [
      "\u001b[1;31m---------------------------------------------------------------------------\u001b[0m",
      "\u001b[1;31mAttributeError\u001b[0m                            Traceback (most recent call last)",
      "\u001b[1;32m<ipython-input-40-b4d2b5fb1864>\u001b[0m in \u001b[0;36m<module>\u001b[1;34m()\u001b[0m\n\u001b[1;32m----> 1\u001b[1;33m \u001b[0mprint\u001b[0m\u001b[1;33m(\u001b[0m\u001b[1;34m'。'\u001b[0m\u001b[1;33m.\u001b[0m\u001b[0mdecode\u001b[0m\u001b[1;33m(\u001b[0m\u001b[1;34m'utf8'\u001b[0m\u001b[1;33m)\u001b[0m\u001b[1;33m)\u001b[0m\u001b[1;33m\u001b[0m\u001b[0m\n\u001b[0m",
      "\u001b[1;31mAttributeError\u001b[0m: 'str' object has no attribute 'decode'"
     ]
    }
   ],
   "source": [
    "print('。'.decode('utf8'))"
   ]
  }
 ],
 "metadata": {
  "kernelspec": {
   "display_name": "Python 3",
   "language": "python",
   "name": "python3"
  },
  "language_info": {
   "codemirror_mode": {
    "name": "ipython",
    "version": 3
   },
   "file_extension": ".py",
   "mimetype": "text/x-python",
   "name": "python",
   "nbconvert_exporter": "python",
   "pygments_lexer": "ipython3",
   "version": "3.4.4"
  }
 },
 "nbformat": 4,
 "nbformat_minor": 2
}
