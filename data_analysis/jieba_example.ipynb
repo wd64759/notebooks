{
 "cells": [
  {
   "cell_type": "code",
   "execution_count": 1,
   "metadata": {
    "collapsed": true,
    "deletable": true,
    "editable": true
   },
   "outputs": [],
   "source": [
    "import os, sys\n",
    "import jieba, codecs, math\n",
    "import jieba.posseg as pseg"
   ]
  },
  {
   "cell_type": "code",
   "execution_count": 9,
   "metadata": {
    "collapsed": true,
    "deletable": true,
    "editable": true
   },
   "outputs": [],
   "source": [
    "test_sent = (\n",
    "\"李小福是创新办主任也是云计算方面的专家; 什么是八一双鹿\\n\"\n",
    "\"例如我输入一个带“韩玉赏鉴”的标题，在自定义词库中也增加了此词为N类\\n\"\n",
    "\"「台中」正確應該不會被切開。mac上可分出「石墨烯」；此時又可以分出來凱特琳了。\"\n",
    ")\n",
    "\n",
    "words = jieba.cut(test_sent)"
   ]
  },
  {
   "cell_type": "code",
   "execution_count": 10,
   "metadata": {
    "collapsed": false,
    "deletable": true,
    "editable": true
   },
   "outputs": [
    {
     "data": {
      "text/plain": [
       "'李小福/是/创新/办/主任/也/是/云/计算/方面/的/专家/;/ /什么/是/八/一双/鹿/\\n/例如/我/输入/一个/带/“/韩玉/赏鉴/”/的/标题/，/在/自定义词/库中/也/增加/了/此/词为/N/类/\\n/「/台/中/」/正確/應該/不會/被/切開/。/mac/上/可/分出/「/石墨/烯/」/；/此時/又/可以/分出/來凱/特琳/了/。'"
      ]
     },
     "execution_count": 10,
     "metadata": {},
     "output_type": "execute_result"
    }
   ],
   "source": [
    "'/'.join(words)"
   ]
  },
  {
   "cell_type": "code",
   "execution_count": null,
   "metadata": {
    "collapsed": false,
    "deletable": true,
    "editable": true
   },
   "outputs": [],
   "source": [
    "words = pseg.cut(test_sent)\n",
    "for w in words:\n",
    "    print(w.word,'/',w.flag)"
   ]
  },
  {
   "cell_type": "code",
   "execution_count": 10,
   "metadata": {
    "collapsed": false,
    "deletable": true,
    "editable": true
   },
   "outputs": [
    {
     "name": "stdout",
     "output_type": "stream",
     "text": [
      "我/来到/北京/清华/清华大学/华大/大学\n",
      "我/来到/北京/清华大学\n",
      "小明/硕士/毕业/于/中国/科学/学院/科学院/中国科学院/计算/计算所/，/后/在/日本/京都/大学/日本京都大学/深造\n",
      "小/明/硕士/毕业/于/中国/中国科学院/科学/科学院/学院/计算/计算所///后/在/日本/日本京都大学/京都/京都大学/大学/深造\n",
      "[pair('小明', 'nr'), pair('硕士', 'n'), pair('毕业', 'n'), pair('于', 'p'), pair('中国科学院', 'nt'), pair('计算所', 'n'), pair('，', 'x'), pair('后在', 't'), pair('日本京都大学', 'nt'), pair('深造', 'v')]\n"
     ]
    }
   ],
   "source": [
    "seg_list = jieba.cut(\"我来到北京清华大学\", cut_all=True)\n",
    "print('/'.join(seg_list))\n",
    "\n",
    "seg_list = jieba.cut(\"我来到北京清华大学\", cut_all=False)\n",
    "print('/'.join(seg_list))\n",
    "\n",
    "seg_list = jieba.cut_for_search(\"小明硕士毕业于中国科学院计算所，后在日本京都大学深造\") \n",
    "print('/'.join(seg_list))\n",
    "\n",
    "seg_list = jieba.cut(\"小明硕士毕业于中国科学院计算所，后在日本京都大学深造\", cut_all=True) \n",
    "print('/'.join(seg_list))\n",
    "\n",
    "seg_list = pseg.cut(\"小明硕士毕业于中国科学院计算所，后在日本京都大学深造\") \n",
    "print(list(seg_list))"
   ]
  },
  {
   "cell_type": "code",
   "execution_count": 2,
   "metadata": {
    "collapsed": true,
    "deletable": true,
    "editable": true
   },
   "outputs": [],
   "source": [
    "names = {}\n",
    "relationships = {}\n",
    "lineNames = []"
   ]
  },
  {
   "cell_type": "code",
   "execution_count": 3,
   "metadata": {
    "collapsed": false,
    "deletable": true,
    "editable": true
   },
   "outputs": [
    {
     "name": "stderr",
     "output_type": "stream",
     "text": [
      "Building prefix dict from the default dictionary ...\n",
      "Dumping model to file cache C:\\Users\\wei\\AppData\\Local\\Temp\\jieba.cache\n",
      "Loading model cost 1.104 seconds.\n",
      "Prefix dict has been built succesfully.\n"
     ]
    }
   ],
   "source": [
    "jieba.load_userdict(r'C:\\wd64759\\tools\\cmder\\tt\\dict.txt')\n",
    "with codecs.open(r'C:\\wd64759\\tools\\cmder\\tt\\busan.txt','r','utf8') as f:\n",
    "    for line in f.readlines():\n",
    "        poss = pseg.cut(line)\n",
    "        lineNames.append([])\n",
    "        for w in poss:\n",
    "            if w.flag != 'nr' or len(w.word) < 2:\n",
    "                continue\n",
    "            lineNames[-1].append(w.word)\n",
    "            if names.get(w.word) is None:\n",
    "                names[w.word] = 0\n",
    "                relationships[w.word] = {}\n",
    "            names[w.word] += 1"
   ]
  },
  {
   "cell_type": "code",
   "execution_count": 5,
   "metadata": {
    "collapsed": false,
    "deletable": true,
    "editable": true
   },
   "outputs": [
    {
     "name": "stdout",
     "output_type": "stream",
     "text": [
      "珍熙 48\n",
      "麻麻亮 1\n",
      "呼唤 2\n",
      "钟吉冲 1\n",
      "队员 10\n",
      "海英 25\n",
      "冷笑 1\n",
      "士兵 2\n",
      "金代理 15\n",
      "拉进来 1\n",
      "美少女 1\n",
      "蓝天 1\n",
      "金常务 52\n",
      "麻木 1\n",
      "苏醒过来 1\n",
      "钟吉 11\n",
      "乌云 1\n",
      "谢谢 3\n",
      "石宇的妈妈 12\n",
      "小姐 2\n",
      "石宇 213\n",
      "明白 2\n",
      "少女 14\n",
      "安抚 1\n",
      "老婆婆 1\n",
      "秀玉 1\n",
      "幸存者 1\n",
      "黎明 15\n",
      "和娜英 2\n",
      "列车长 20\n",
      "露宿者 22\n",
      "游弋 4\n",
      "阿姨 1\n",
      "安静 1\n",
      "安全性 1\n",
      "英国 60\n",
      "尚华 112\n",
      "卡住 4\n",
      "组长 17\n",
      "塞进 1\n",
      "秀安 135\n",
      "爱抚 1\n",
      "盛京 58\n",
      "乘务长 15\n"
     ]
    }
   ],
   "source": [
    "for name, times in names.items():\n",
    "    print(name, times)"
   ]
  },
  {
   "cell_type": "code",
   "execution_count": 6,
   "metadata": {
    "collapsed": true,
    "deletable": true,
    "editable": true
   },
   "outputs": [],
   "source": [
    "for line in lineNames:\n",
    "    for name1 in line:\n",
    "        for name2 in line:\n",
    "            if name1 == name2:\n",
    "                continue\n",
    "            if relationships[name1].get(name2) is None:\n",
    "                relationships[name1][name2] = 1\n",
    "            else:\n",
    "                relationships[name1][name2] = relationships[name1][name2] + 1"
   ]
  },
  {
   "cell_type": "code",
   "execution_count": 7,
   "metadata": {
    "collapsed": true,
    "deletable": true,
    "editable": true
   },
   "outputs": [],
   "source": [
    "with codecs.open(r'C:\\wd64759\\tools\\cmder\\tt\\busan_node.txt', 'w', 'gbk') as f:\n",
    "    f.write('Id Label Weight\\r\\n')\n",
    "    for name, times in names.items():\n",
    "        f.write(name + ' ' + name +' '+str(times) + '\\r\\n')\n",
    "        "
   ]
  },
  {
   "cell_type": "code",
   "execution_count": 8,
   "metadata": {
    "collapsed": true,
    "deletable": true,
    "editable": true
   },
   "outputs": [],
   "source": [
    "with codecs.open(r'C:\\wd64759\\tools\\cmder\\tt\\busan_edge.txt','w','gbk') as f:\n",
    "    f.write('Source Target Weight\\r\\n')\n",
    "    for name, edges in relationships.items():\n",
    "        for v,w in edges.items():\n",
    "            if w>3:\n",
    "                f.write(name + ' ' + v + ' ' + str(w) + '\\r\\n')"
   ]
  }
 ],
 "metadata": {
  "kernelspec": {
   "display_name": "Python 3",
   "language": "python",
   "name": "python3"
  },
  "language_info": {
   "codemirror_mode": {
    "name": "ipython",
    "version": 3
   },
   "file_extension": ".py",
   "mimetype": "text/x-python",
   "name": "python",
   "nbconvert_exporter": "python",
   "pygments_lexer": "ipython3",
   "version": "3.4.4"
  }
 },
 "nbformat": 4,
 "nbformat_minor": 2
}
